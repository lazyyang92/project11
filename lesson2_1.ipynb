{
 "cells": [
  {
   "cell_type": "code",
   "execution_count": 1,
   "metadata": {},
   "outputs": [
    {
     "data": {
      "text/plain": [
       "'羊'"
      ]
     },
     "execution_count": 1,
     "metadata": {},
     "output_type": "execute_result"
    }
   ],
   "source": [
    "input(\"請輸入您的姓名\")\n",
    "要在上方輸入提示問題"
   ]
  },
  {
   "cell_type": "code",
   "execution_count": 3,
   "metadata": {},
   "outputs": [
    {
     "name": "stdout",
     "output_type": "stream",
     "text": [
      "羊\n"
     ]
    }
   ],
   "source": [
    "#輸入，input()\n",
    "#輸出，print()\n",
    "name = input(\"請輸入您的姓名\")\n",
    "print(name)"
   ]
  },
  {
   "cell_type": "code",
   "execution_count": 4,
   "metadata": {},
   "outputs": [
    {
     "name": "stdout",
     "output_type": "stream",
     "text": [
      "您的名字是:name\n"
     ]
    }
   ],
   "source": [
    "print(\"您的名字是:name\")"
   ]
  },
  {
   "cell_type": "code",
   "execution_count": 5,
   "metadata": {},
   "outputs": [
    {
     "name": "stdout",
     "output_type": "stream",
     "text": [
      "您的名字是:羊\n"
     ]
    }
   ],
   "source": [
    "print(F\"您的名字是:{name}\")"
   ]
  },
  {
   "cell_type": "code",
   "execution_count": 8,
   "metadata": {},
   "outputs": [
    {
     "name": "stdout",
     "output_type": "stream",
     "text": [
      "您的姓名是羊\n",
      "中文分數是78,英文分數是72\n",
      "總分是150,平均是75.0\n"
     ]
    }
   ],
   "source": [
    "#字串插補\n",
    "#前面須加入F，變數要加入{}\n",
    "name = \"羊\"\n",
    "chinese = 78\n",
    "english = 72\n",
    "sum = chinese + english\n",
    "average = sum / 2\n",
    "\n",
    "print(F\"您的姓名是{name}\")\n",
    "print(F\"中文分數是{chinese},英文分數是{english}\")\n",
    "print(F\"總分是{sum},平均是{average}\")"
   ]
  },
  {
   "cell_type": "code",
   "execution_count": null,
   "metadata": {},
   "outputs": [],
   "source": [
    "#輸入完會是字串\n",
    "#輸入int轉成數字\n",
    "#他是執行了2次動作\n",
    "int(input(\"請輸入國文成績\"))"
   ]
  },
  {
   "cell_type": "code",
   "execution_count": 12,
   "metadata": {},
   "outputs": [
    {
     "name": "stdout",
     "output_type": "stream",
     "text": [
      "國文成績是80,數學成績是100,總分是180\n"
     ]
    }
   ],
   "source": [
    "chinese = int(input(\"請輸入國文成績\"))\n",
    "math = int(input(\"請輸入數學成績\"))\n",
    "\n",
    "sum = chinese + math\n",
    "print(F\"國文成績是{chinese},數學成績是{math},總分是{sum}\")"
   ]
  },
  {
   "cell_type": "code",
   "execution_count": null,
   "metadata": {},
   "outputs": [],
   "source": [
    "#會出錯，整數不能傳出小數點的字串\n",
    "print(int(\"87.5\"))\n"
   ]
  },
  {
   "cell_type": "code",
   "execution_count": 13,
   "metadata": {},
   "outputs": [
    {
     "data": {
      "text/plain": [
       "170"
      ]
     },
     "execution_count": 13,
     "metadata": {},
     "output_type": "execute_result"
    }
   ],
   "source": [
    "#eval ,將字串轉成運算式\n",
    "\n",
    "eval(\"80 + 90\")"
   ]
  },
  {
   "cell_type": "code",
   "execution_count": 14,
   "metadata": {},
   "outputs": [
    {
     "name": "stdout",
     "output_type": "stream",
     "text": [
      "國文成績是82.5,數學成績是95,總分是177.5\n"
     ]
    }
   ],
   "source": [
    "chinese = eval(input(\"請輸入國文成績\"))\n",
    "math = eval(input(\"請輸入數學成績\"))\n",
    "\n",
    "sum = chinese + math\n",
    "print(F\"國文成績是{chinese},數學成績是{math},總分是{sum}\")"
   ]
  },
  {
   "cell_type": "code",
   "execution_count": 15,
   "metadata": {},
   "outputs": [
    {
     "data": {
      "text/plain": [
       "10"
      ]
     },
     "execution_count": 15,
     "metadata": {},
     "output_type": "execute_result"
    }
   ],
   "source": [
    "#運算值的優先順序\n",
    "#沒有等於就表示白寫\n",
    "2 * (1 + 2) ** 2 - 2 ** 2 * 2 "
   ]
  },
  {
   "cell_type": "code",
   "execution_count": 16,
   "metadata": {},
   "outputs": [
    {
     "data": {
      "text/plain": [
       "-25"
      ]
     },
     "execution_count": 16,
     "metadata": {},
     "output_type": "execute_result"
    }
   ],
   "source": [
    "-5 ** 2"
   ]
  },
  {
   "cell_type": "code",
   "execution_count": 17,
   "metadata": {},
   "outputs": [
    {
     "data": {
      "text/plain": [
       "25"
      ]
     },
     "execution_count": 17,
     "metadata": {},
     "output_type": "execute_result"
    }
   ],
   "source": [
    "(-5) ** 2"
   ]
  },
  {
   "cell_type": "code",
   "execution_count": 18,
   "metadata": {},
   "outputs": [
    {
     "name": "stdout",
     "output_type": "stream",
     "text": [
      "請計算梯形面積\n",
      "面積是150.0\n"
     ]
    }
   ],
   "source": [
    "#學校的數學運算\n",
    "#梯形面積\n",
    "#(上底+下底)*/2\n",
    "\n",
    "print(\"請計算梯形面積\")\n",
    "top = eval(input(\"請輸入上底\"))\n",
    "bottom = eval(input(\"請輸入下底\"))\n",
    "height = eval(input(\"請輸入高\"))\n",
    "\n",
    "print(F\"面積是{(top + bottom) * height / 2}\")"
   ]
  },
  {
   "cell_type": "code",
   "execution_count": 19,
   "metadata": {},
   "outputs": [
    {
     "data": {
      "text/plain": [
       "46"
      ]
     },
     "execution_count": 19,
     "metadata": {},
     "output_type": "execute_result"
    }
   ],
   "source": [
    "import math\n",
    "math.ceil(45.1)"
   ]
  },
  {
   "cell_type": "code",
   "execution_count": 21,
   "metadata": {},
   "outputs": [
    {
     "data": {
      "text/plain": [
       "45"
      ]
     },
     "execution_count": 21,
     "metadata": {},
     "output_type": "execute_result"
    }
   ],
   "source": [
    "import math\n",
    "math.floor(45.1)"
   ]
  },
  {
   "cell_type": "code",
   "execution_count": 23,
   "metadata": {},
   "outputs": [
    {
     "data": {
      "text/plain": [
       "45"
      ]
     },
     "execution_count": 23,
     "metadata": {},
     "output_type": "execute_result"
    }
   ],
   "source": [
    "round(45.1)"
   ]
  },
  {
   "cell_type": "code",
   "execution_count": 24,
   "metadata": {},
   "outputs": [
    {
     "data": {
      "text/plain": [
       "46"
      ]
     },
     "execution_count": 24,
     "metadata": {},
     "output_type": "execute_result"
    }
   ],
   "source": [
    "round(45.8)"
   ]
  }
 ],
 "metadata": {
  "kernelspec": {
   "display_name": "Python 3.10.8 64-bit",
   "language": "python",
   "name": "python3"
  },
  "language_info": {
   "codemirror_mode": {
    "name": "ipython",
    "version": 3
   },
   "file_extension": ".py",
   "mimetype": "text/x-python",
   "name": "python",
   "nbconvert_exporter": "python",
   "pygments_lexer": "ipython3",
   "version": "3.10.8"
  },
  "orig_nbformat": 4,
  "vscode": {
   "interpreter": {
    "hash": "2cecb92da02c8b98f4101d22276476b1c28eb527ceb2bbde7375dd542609dce3"
   }
  }
 },
 "nbformat": 4,
 "nbformat_minor": 2
}
