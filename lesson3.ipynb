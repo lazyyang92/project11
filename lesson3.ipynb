{
 "cells": [
  {
   "cell_type": "code",
   "execution_count": 1,
   "metadata": {},
   "outputs": [
    {
     "data": {
      "text/plain": [
       "False"
      ]
     },
     "execution_count": 1,
     "metadata": {},
     "output_type": "execute_result"
    }
   ],
   "source": [
    "x = 7\n",
    "x == 5 #比較運算子"
   ]
  },
  {
   "cell_type": "code",
   "execution_count": 2,
   "metadata": {},
   "outputs": [
    {
     "data": {
      "text/plain": [
       "True"
      ]
     },
     "execution_count": 2,
     "metadata": {},
     "output_type": "execute_result"
    }
   ],
   "source": [
    "x == 7"
   ]
  },
  {
   "cell_type": "code",
   "execution_count": 7,
   "metadata": {},
   "outputs": [
    {
     "name": "stdout",
     "output_type": "stream",
     "text": [
      "沒有複習\n",
      "不及格\n",
      "程式結束\n"
     ]
    }
   ],
   "source": [
    "#縮排用TAB鍵，用空白也可以，但要記得對齊\n",
    "#IF或ELSE一定執行其中一個\n",
    "#IF和ELSE一定要對齊，縮排也要對齊，沒對齊會錯\n",
    "chinese_str = input(\"請輸入國文分數\")\n",
    "chinese_int = int(chinese_str)\n",
    "if chinese_int >=60:\n",
    "    print(F\"國文分數是{chinese_int}\")\n",
    "    print(\"及格\")\n",
    "else:\n",
    "    print(\"沒有複習\")\n",
    "    print(\"不及格\")\n",
    "print(\"程式結束\")"
   ]
  },
  {
   "cell_type": "code",
   "execution_count": 12,
   "metadata": {},
   "outputs": [
    {
     "name": "stdout",
     "output_type": "stream",
     "text": [
      "優\n"
     ]
    }
   ],
   "source": [
    "#多項選擇\n",
    "'''\n",
    "• 90(含)~100分為「優」\n",
    "• 80(含)~89分為「甲」\n",
    "• 70(含)~79分為「乙」\n",
    "• 60(含)~69分為「丙」\n",
    "• 0(含)~59分為「丁」\n",
    "'''\n",
    "\n",
    "chinese = int(input(\"請輸入數學分數:\"))\n",
    "if chinese >= 90:\n",
    "    print(\"優\")\n",
    "elif chinese >= 80:\n",
    "    print(\"甲\")\n",
    "elif chinese >= 70:\n",
    "    print(\"乙\")\n",
    "elif chinese >= 60:\n",
    "    print(\"丙\")\n",
    "elif chinese >=0:\n",
    "    print(\"丁\")"
   ]
  }
 ],
 "metadata": {
  "kernelspec": {
   "display_name": "Python 3.10.8 64-bit",
   "language": "python",
   "name": "python3"
  },
  "language_info": {
   "codemirror_mode": {
    "name": "ipython",
    "version": 3
   },
   "file_extension": ".py",
   "mimetype": "text/x-python",
   "name": "python",
   "nbconvert_exporter": "python",
   "pygments_lexer": "ipython3",
   "version": "3.10.8"
  },
  "orig_nbformat": 4,
  "vscode": {
   "interpreter": {
    "hash": "2cecb92da02c8b98f4101d22276476b1c28eb527ceb2bbde7375dd542609dce3"
   }
  }
 },
 "nbformat": 4,
 "nbformat_minor": 2
}
