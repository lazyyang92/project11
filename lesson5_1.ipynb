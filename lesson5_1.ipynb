{
 "cells": [
  {
   "cell_type": "code",
   "execution_count": 1,
   "metadata": {},
   "outputs": [
    {
     "data": {
      "text/plain": [
       "0.9644351969405508"
      ]
     },
     "execution_count": 1,
     "metadata": {},
     "output_type": "execute_result"
    }
   ],
   "source": [
    "#產生0-1之間的亂數\n",
    "#用import呼叫工具箱random\n",
    "import random\n",
    "random.random()"
   ]
  },
  {
   "cell_type": "code",
   "execution_count": 3,
   "metadata": {},
   "outputs": [
    {
     "name": "stdout",
     "output_type": "stream",
     "text": [
      "7.417066675097225\n",
      "99.22196841308543\n"
     ]
    }
   ],
   "source": [
    "#產生範圍內的亂數\n",
    "print(random.uniform(1,10))\n",
    "print(random.uniform(99,100))"
   ]
  },
  {
   "cell_type": "code",
   "execution_count": 4,
   "metadata": {},
   "outputs": [
    {
     "data": {
      "text/plain": [
       "3"
      ]
     },
     "execution_count": 4,
     "metadata": {},
     "output_type": "execute_result"
    }
   ],
   "source": [
    "#產生範圍內的整數亂數\n",
    "random.randint(1,10)"
   ]
  },
  {
   "cell_type": "code",
   "execution_count": 6,
   "metadata": {},
   "outputs": [
    {
     "name": "stdout",
     "output_type": "stream",
     "text": [
      "32\n"
     ]
    }
   ],
   "source": [
    "#給了變數，但沒有單獨打一行變數或加PRINT()，執行完記憶體就丟掉了，是無效的\n",
    "random_valum = random.randint(1,100)\n",
    "print(random_valum)"
   ]
  },
  {
   "cell_type": "code",
   "execution_count": 21,
   "metadata": {},
   "outputs": [
    {
     "name": "stdout",
     "output_type": "stream",
     "text": [
      "======猜數字遊戲======\n",
      "猜錯了\n",
      "猜錯了\n",
      "猜對了!是:3\n",
      "遊戲結束\n"
     ]
    }
   ],
   "source": [
    "#無限迴圈\n",
    "\n",
    "min = 1\n",
    "max = 3\n",
    "random_value = random.randint(min,max)\n",
    "print(\"======猜數字遊戲======\")\n",
    "while True:\n",
    "    #使用者輸入數字後轉成整數及給一個變數\n",
    "    key = int(input(f\"猜數字範圍{min}~{max}:\"))\n",
    "    if(key == random_value):\n",
    "        print (f\"猜對了!是:{random_value}\")\n",
    "        break   \n",
    "    else:\n",
    "        print(\"猜錯了\")\n",
    "        \n",
    "print(\"遊戲結束\")\n"
   ]
  },
  {
   "cell_type": "code",
   "execution_count": 22,
   "metadata": {},
   "outputs": [
    {
     "name": "stdout",
     "output_type": "stream",
     "text": [
      "======猜數字遊戲======\n",
      "猜錯了\n",
      "猜對了!是:3\n",
      "總共猜了2次\n",
      "遊戲結束\n"
     ]
    }
   ],
   "source": [
    "#無限迴圈\n",
    "#用count計算次數\n",
    "\n",
    "min = 1\n",
    "max = 3\n",
    "count = 0\n",
    "random_value = random.randint(min,max)\n",
    "print(\"======猜數字遊戲======\")\n",
    "while True:\n",
    "    #計算次數，每次+1，用+=表示增加記數\n",
    "    count += 1\n",
    "    #使用者輸入數字後轉成整數及給一個變數\n",
    "    key = int(input(f\"猜數字範圍{min}~{max}:\"))\n",
    "    if(key == random_value):\n",
    "        print (f\"猜對了!是:{random_value}\")\n",
    "        print (f\"總共猜了{count}次\")\n",
    "        break   \n",
    "    else:\n",
    "        print(\"猜錯了\")\n",
    "        \n",
    "print(\"遊戲結束\")\n"
   ]
  },
  {
   "cell_type": "code",
   "execution_count": 23,
   "metadata": {},
   "outputs": [
    {
     "name": "stdout",
     "output_type": "stream",
     "text": [
      "======猜數字遊戲======\n",
      "再大一點\n",
      "您已經猜1次\n",
      "猜對了，是3\n",
      "總共猜了2次\n",
      "遊戲結束\n"
     ]
    }
   ],
   "source": [
    "#無限迴圈\n",
    "#用count計算次數\n",
    "#使用者白目輸入超出範圍，兩個條件的迴圈\n",
    "\n",
    "min = 1\n",
    "max = 3\n",
    "count = 0\n",
    "random_value = random.randint(min,max)\n",
    "print(\"======猜數字遊戲======\")\n",
    "while True:\n",
    "    count += 1\n",
    "    key = int(input(f\"猜數字範圍{min}~{max}:\"))\n",
    "    #巢狀\n",
    "    if key >= min and key <= max:\n",
    "        if key == random_value:\n",
    "            print(f\"猜對了，是{random_value}\")\n",
    "            print (f\"總共猜了{count}次\")\n",
    "            break   \n",
    "        elif key > random_value:\n",
    "            print(\"再小一點\")\n",
    "            max = key-1\n",
    "        elif key < random_value:\n",
    "            print(\"再大一點\")\n",
    "            min = key+1\n",
    "            print(F\"您已經猜{count}次\")\n",
    "    else:\n",
    "        print(\"超出範圍了!\")\n",
    "print(\"遊戲結束\")\n"
   ]
  }
 ],
 "metadata": {
  "kernelspec": {
   "display_name": "Python 3.10.8 64-bit",
   "language": "python",
   "name": "python3"
  },
  "language_info": {
   "codemirror_mode": {
    "name": "ipython",
    "version": 3
   },
   "file_extension": ".py",
   "mimetype": "text/x-python",
   "name": "python",
   "nbconvert_exporter": "python",
   "pygments_lexer": "ipython3",
   "version": "3.10.8"
  },
  "orig_nbformat": 4,
  "vscode": {
   "interpreter": {
    "hash": "2cecb92da02c8b98f4101d22276476b1c28eb527ceb2bbde7375dd542609dce3"
   }
  }
 },
 "nbformat": 4,
 "nbformat_minor": 2
}
